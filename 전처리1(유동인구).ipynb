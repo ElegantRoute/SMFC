{
 "cells": [
  {
   "cell_type": "markdown",
   "metadata": {},
   "source": [
    "데이터유형\n",
    "\n",
    "1. 유동인구\n",
    "    - 구별, 시간별, 인구수\n",
    "2. CCTV 데이터"
   ]
  },
  {
   "cell_type": "code",
   "execution_count": 16,
   "metadata": {},
   "outputs": [],
   "source": [
    "import json"
   ]
  },
  {
   "cell_type": "code",
   "execution_count": 17,
   "metadata": {},
   "outputs": [],
   "source": [
    "import pandas as pd"
   ]
  },
  {
   "cell_type": "code",
   "execution_count": 18,
   "metadata": {},
   "outputs": [],
   "source": [
    "import re"
   ]
  },
  {
   "cell_type": "code",
   "execution_count": 19,
   "metadata": {},
   "outputs": [],
   "source": [
    "people = pd.read_csv('project/person.csv')"
   ]
  },
  {
   "cell_type": "code",
   "execution_count": 20,
   "metadata": {
    "scrolled": true
   },
   "outputs": [],
   "source": [
    "people = people[['기준일ID','시간대구분','행정동코드','총생활인구수']]"
   ]
  },
  {
   "cell_type": "code",
   "execution_count": 21,
   "metadata": {},
   "outputs": [],
   "source": [
    "dd = pd.read_excel('행정동코드.xlsx')"
   ]
  },
  {
   "cell_type": "code",
   "execution_count": 22,
   "metadata": {},
   "outputs": [],
   "source": [
    "dd = dd.iloc[1:,:]"
   ]
  },
  {
   "cell_type": "code",
   "execution_count": 23,
   "metadata": {
    "scrolled": true
   },
   "outputs": [],
   "source": [
    "dd = dd.reset_index()"
   ]
  },
  {
   "cell_type": "code",
   "execution_count": 24,
   "metadata": {},
   "outputs": [],
   "source": [
    "dd = dd[['행자부행정동코드','시도명','시군구명','행정동명']]"
   ]
  },
  {
   "cell_type": "code",
   "execution_count": 25,
   "metadata": {
    "scrolled": true
   },
   "outputs": [],
   "source": [
    "addr = []\n",
    "for x,y,z in zip(dd['시도명'],dd['시군구명'],dd['행정동명']):\n",
    "    addr.append(x +\"특별시 \"+ y + \" \" + z)"
   ]
  },
  {
   "cell_type": "code",
   "execution_count": 26,
   "metadata": {},
   "outputs": [],
   "source": [
    "dd['주소'] = addr"
   ]
  },
  {
   "cell_type": "code",
   "execution_count": 27,
   "metadata": {},
   "outputs": [],
   "source": [
    "dd = dd[['행자부행정동코드','주소']]"
   ]
  },
  {
   "cell_type": "code",
   "execution_count": 28,
   "metadata": {
    "scrolled": true
   },
   "outputs": [],
   "source": [
    "dd.rename(columns={'행자부행정동코드':'행정동코드'},inplace = True)"
   ]
  },
  {
   "cell_type": "code",
   "execution_count": 29,
   "metadata": {
    "scrolled": true
   },
   "outputs": [],
   "source": [
    "dd['행정동코드'] = dd['행정동코드'].astype('int64')"
   ]
  },
  {
   "cell_type": "code",
   "execution_count": 45,
   "metadata": {},
   "outputs": [
    {
     "name": "stdout",
     "output_type": "stream",
     "text": [
      "<class 'pandas.core.frame.DataFrame'>\n",
      "RangeIndex: 424 entries, 0 to 423\n",
      "Data columns (total 2 columns):\n",
      "행정동코드    424 non-null int64\n",
      "주소       424 non-null object\n",
      "dtypes: int64(1), object(1)\n",
      "memory usage: 6.7+ KB\n"
     ]
    }
   ],
   "source": [
    "dd.info()"
   ]
  },
  {
   "cell_type": "code",
   "execution_count": 47,
   "metadata": {},
   "outputs": [
    {
     "name": "stdout",
     "output_type": "stream",
     "text": [
      "<class 'pandas.core.frame.DataFrame'>\n",
      "RangeIndex: 274752 entries, 0 to 274751\n",
      "Data columns (total 4 columns):\n",
      "기준일ID     274752 non-null int64\n",
      "시간대구분     274752 non-null int64\n",
      "행정동코드     274752 non-null int64\n",
      "총생활인구수    274752 non-null float64\n",
      "dtypes: float64(1), int64(3)\n",
      "memory usage: 8.4 MB\n"
     ]
    }
   ],
   "source": [
    "people.info()"
   ]
  },
  {
   "cell_type": "code",
   "execution_count": 30,
   "metadata": {},
   "outputs": [],
   "source": [
    "address=[]\n",
    "for i in people['행정동코드'] :\n",
    "    for k,j in enumerate(dd['행정동코드']) :\n",
    "        if i == j:\n",
    "            address.append(dd['주소'][k])"
   ]
  },
  {
   "cell_type": "code",
   "execution_count": 31,
   "metadata": {},
   "outputs": [
    {
     "data": {
      "text/plain": [
       "274752"
      ]
     },
     "execution_count": 31,
     "metadata": {},
     "output_type": "execute_result"
    }
   ],
   "source": [
    "len(address)"
   ]
  },
  {
   "cell_type": "code",
   "execution_count": 32,
   "metadata": {},
   "outputs": [],
   "source": [
    "people['주소'] = address"
   ]
  },
  {
   "cell_type": "code",
   "execution_count": 33,
   "metadata": {},
   "outputs": [
    {
     "data": {
      "text/html": [
       "<div>\n",
       "<style scoped>\n",
       "    .dataframe tbody tr th:only-of-type {\n",
       "        vertical-align: middle;\n",
       "    }\n",
       "\n",
       "    .dataframe tbody tr th {\n",
       "        vertical-align: top;\n",
       "    }\n",
       "\n",
       "    .dataframe thead th {\n",
       "        text-align: right;\n",
       "    }\n",
       "</style>\n",
       "<table border=\"1\" class=\"dataframe\">\n",
       "  <thead>\n",
       "    <tr style=\"text-align: right;\">\n",
       "      <th></th>\n",
       "      <th>기준일ID</th>\n",
       "      <th>시간대구분</th>\n",
       "      <th>행정동코드</th>\n",
       "      <th>총생활인구수</th>\n",
       "      <th>주소</th>\n",
       "    </tr>\n",
       "  </thead>\n",
       "  <tbody>\n",
       "    <tr>\n",
       "      <th>0</th>\n",
       "      <td>20180803</td>\n",
       "      <td>23</td>\n",
       "      <td>11110515</td>\n",
       "      <td>14452.7924</td>\n",
       "      <td>서울특별시 종로구 청운효자동</td>\n",
       "    </tr>\n",
       "    <tr>\n",
       "      <th>1</th>\n",
       "      <td>20180803</td>\n",
       "      <td>23</td>\n",
       "      <td>11110530</td>\n",
       "      <td>17618.1862</td>\n",
       "      <td>서울특별시 종로구 사직동</td>\n",
       "    </tr>\n",
       "    <tr>\n",
       "      <th>2</th>\n",
       "      <td>20180803</td>\n",
       "      <td>23</td>\n",
       "      <td>11110540</td>\n",
       "      <td>3740.3277</td>\n",
       "      <td>서울특별시 종로구 삼청동</td>\n",
       "    </tr>\n",
       "    <tr>\n",
       "      <th>3</th>\n",
       "      <td>20180803</td>\n",
       "      <td>23</td>\n",
       "      <td>11110550</td>\n",
       "      <td>8914.5840</td>\n",
       "      <td>서울특별시 종로구 부암동</td>\n",
       "    </tr>\n",
       "    <tr>\n",
       "      <th>4</th>\n",
       "      <td>20180803</td>\n",
       "      <td>23</td>\n",
       "      <td>11110560</td>\n",
       "      <td>17935.7587</td>\n",
       "      <td>서울특별시 종로구 평창동</td>\n",
       "    </tr>\n",
       "  </tbody>\n",
       "</table>\n",
       "</div>"
      ],
      "text/plain": [
       "      기준일ID  시간대구분     행정동코드      총생활인구수               주소\n",
       "0  20180803     23  11110515  14452.7924  서울특별시 종로구 청운효자동\n",
       "1  20180803     23  11110530  17618.1862    서울특별시 종로구 사직동\n",
       "2  20180803     23  11110540   3740.3277    서울특별시 종로구 삼청동\n",
       "3  20180803     23  11110550   8914.5840    서울특별시 종로구 부암동\n",
       "4  20180803     23  11110560  17935.7587    서울특별시 종로구 평창동"
      ]
     },
     "execution_count": 33,
     "metadata": {},
     "output_type": "execute_result"
    }
   ],
   "source": [
    "people.head()"
   ]
  },
  {
   "cell_type": "code",
   "execution_count": 34,
   "metadata": {},
   "outputs": [],
   "source": [
    "people = people[['기준일ID','시간대구분','행정동코드','주소','총생활인구수']]"
   ]
  },
  {
   "cell_type": "code",
   "execution_count": 35,
   "metadata": {},
   "outputs": [
    {
     "data": {
      "text/html": [
       "<div>\n",
       "<style scoped>\n",
       "    .dataframe tbody tr th:only-of-type {\n",
       "        vertical-align: middle;\n",
       "    }\n",
       "\n",
       "    .dataframe tbody tr th {\n",
       "        vertical-align: top;\n",
       "    }\n",
       "\n",
       "    .dataframe thead th {\n",
       "        text-align: right;\n",
       "    }\n",
       "</style>\n",
       "<table border=\"1\" class=\"dataframe\">\n",
       "  <thead>\n",
       "    <tr style=\"text-align: right;\">\n",
       "      <th></th>\n",
       "      <th>기준일ID</th>\n",
       "      <th>시간대구분</th>\n",
       "      <th>행정동코드</th>\n",
       "      <th>주소</th>\n",
       "      <th>총생활인구수</th>\n",
       "    </tr>\n",
       "  </thead>\n",
       "  <tbody>\n",
       "    <tr>\n",
       "      <th>0</th>\n",
       "      <td>20180803</td>\n",
       "      <td>23</td>\n",
       "      <td>11110515</td>\n",
       "      <td>서울특별시 종로구 청운효자동</td>\n",
       "      <td>14452.7924</td>\n",
       "    </tr>\n",
       "    <tr>\n",
       "      <th>1</th>\n",
       "      <td>20180803</td>\n",
       "      <td>23</td>\n",
       "      <td>11110530</td>\n",
       "      <td>서울특별시 종로구 사직동</td>\n",
       "      <td>17618.1862</td>\n",
       "    </tr>\n",
       "    <tr>\n",
       "      <th>2</th>\n",
       "      <td>20180803</td>\n",
       "      <td>23</td>\n",
       "      <td>11110540</td>\n",
       "      <td>서울특별시 종로구 삼청동</td>\n",
       "      <td>3740.3277</td>\n",
       "    </tr>\n",
       "    <tr>\n",
       "      <th>3</th>\n",
       "      <td>20180803</td>\n",
       "      <td>23</td>\n",
       "      <td>11110550</td>\n",
       "      <td>서울특별시 종로구 부암동</td>\n",
       "      <td>8914.5840</td>\n",
       "    </tr>\n",
       "    <tr>\n",
       "      <th>4</th>\n",
       "      <td>20180803</td>\n",
       "      <td>23</td>\n",
       "      <td>11110560</td>\n",
       "      <td>서울특별시 종로구 평창동</td>\n",
       "      <td>17935.7587</td>\n",
       "    </tr>\n",
       "  </tbody>\n",
       "</table>\n",
       "</div>"
      ],
      "text/plain": [
       "      기준일ID  시간대구분     행정동코드               주소      총생활인구수\n",
       "0  20180803     23  11110515  서울특별시 종로구 청운효자동  14452.7924\n",
       "1  20180803     23  11110530    서울특별시 종로구 사직동  17618.1862\n",
       "2  20180803     23  11110540    서울특별시 종로구 삼청동   3740.3277\n",
       "3  20180803     23  11110550    서울특별시 종로구 부암동   8914.5840\n",
       "4  20180803     23  11110560    서울특별시 종로구 평창동  17935.7587"
      ]
     },
     "execution_count": 35,
     "metadata": {},
     "output_type": "execute_result"
    }
   ],
   "source": [
    "people.head()"
   ]
  },
  {
   "cell_type": "code",
   "execution_count": 36,
   "metadata": {},
   "outputs": [],
   "source": [
    "people.to_csv('floating_population.csv',encoding = 'cp949')"
   ]
  },
  {
   "cell_type": "code",
   "execution_count": 66,
   "metadata": {},
   "outputs": [
    {
     "data": {
      "text/plain": [
       "행정동코드     시간대구분\n",
       "11110515  0        14247.805111\n",
       "          1        14340.414185\n",
       "          2        14380.027093\n",
       "          3        14405.650478\n",
       "          4        14424.302485\n",
       "          5        14530.991293\n",
       "          6        15010.374530\n",
       "          7        16165.602070\n",
       "          8        16995.203552\n",
       "          9        17134.837026\n",
       "          10       17582.934530\n",
       "          11       17631.177022\n",
       "          12       17779.633844\n",
       "          13       17578.304641\n",
       "          14       17544.520978\n",
       "          15       17101.648619\n",
       "          16       16126.236907\n",
       "          17       15500.955474\n",
       "          18       14586.606000\n",
       "          19       14555.501378\n",
       "          20       14503.212893\n",
       "          21       14082.185485\n",
       "          22       13982.869363\n",
       "          23       14099.767819\n",
       "11110530  0        16495.549315\n",
       "          1        16018.449989\n",
       "          2        15704.338419\n",
       "          3        15685.920037\n",
       "          4        15977.009193\n",
       "          5        16772.788644\n",
       "                       ...     \n",
       "11740690  18        7573.071141\n",
       "          19        8008.839578\n",
       "          20        8346.301441\n",
       "          21        8793.165041\n",
       "          22        9053.628581\n",
       "          23        8144.997919\n",
       "11740700  0        31775.958685\n",
       "          1        31728.178252\n",
       "          2        31724.960181\n",
       "          3        31732.019722\n",
       "          4        31076.159922\n",
       "          5        31184.053156\n",
       "          6        30861.892726\n",
       "          7        30456.349526\n",
       "          8        29738.261144\n",
       "          9        29242.138104\n",
       "          10       28582.884581\n",
       "          11       27944.687374\n",
       "          12       27484.852181\n",
       "          13       27352.668919\n",
       "          14       27146.937604\n",
       "          15       26658.036489\n",
       "          16       26272.569300\n",
       "          17       26078.913237\n",
       "          18       26531.042133\n",
       "          19       26941.255607\n",
       "          20       27306.176933\n",
       "          21       28092.394693\n",
       "          22       29332.846074\n",
       "          23       31399.446337\n",
       "Name: 총생활인구수, Length: 10176, dtype: float64"
      ]
     },
     "execution_count": 66,
     "metadata": {},
     "output_type": "execute_result"
    }
   ],
   "source": [
    "people.groupby(['행정동코드','시간대구분'])['총생활인구수'].mean()"
   ]
  },
  {
   "cell_type": "code",
   "execution_count": null,
   "metadata": {},
   "outputs": [],
   "source": []
  }
 ],
 "metadata": {
  "kernelspec": {
   "display_name": "Python 3",
   "language": "python",
   "name": "python3"
  },
  "language_info": {
   "codemirror_mode": {
    "name": "ipython",
    "version": 3
   },
   "file_extension": ".py",
   "mimetype": "text/x-python",
   "name": "python",
   "nbconvert_exporter": "python",
   "pygments_lexer": "ipython3",
   "version": "3.6.5"
  }
 },
 "nbformat": 4,
 "nbformat_minor": 2
}

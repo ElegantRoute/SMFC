{
 "cells": [
  {
   "cell_type": "code",
   "execution_count": 1,
   "metadata": {},
   "outputs": [],
   "source": [
    "# http://www.safe182.go.kr/lom/listLcInfoMap.do"
   ]
  },
  {
   "cell_type": "code",
   "execution_count": 39,
   "metadata": {},
   "outputs": [],
   "source": [
    "from selenium import webdriver\n",
    "from bs4 import BeautifulSoup\n",
    "import requests"
   ]
  },
  {
   "cell_type": "code",
   "execution_count": 138,
   "metadata": {},
   "outputs": [],
   "source": [
    "driver = webdriver.Chrome()\n",
    "driver.get(\"http://www.safe182.go.kr/lom/listLcInfoMap.do\")\n",
    "driver.find_element_by_css_selector('.margin_bm10 .tabLeft2').click()"
   ]
  },
  {
   "cell_type": "code",
   "execution_count": 139,
   "metadata": {},
   "outputs": [],
   "source": [
    "html = BeautifulSoup(driver.page_source, \"lxml\")\n",
    "#html"
   ]
  },
  {
   "cell_type": "code",
   "execution_count": 140,
   "metadata": {},
   "outputs": [
    {
     "data": {
      "text/plain": [
       "[' 울산시 울주군 온양읍 발리 600-5',\n",
       " ' 서울 송파구 신천동 20 파크리오아파트 5초소(성내천 방향)',\n",
       " '경기도 안양시 동안구 평촌동',\n",
       " '대구 동구 신암2동 459-11',\n",
       " '경기도 부천시 부흥로 49-0',\n",
       " '경기도 부천시 원미구 심곡동,129-2',\n",
       " '경기도 부천시 원미구 심곡동,33',\n",
       " '경기도 부천시 원미구 중동,733-4',\n",
       " '경기도 부천시 소향로 127-0,소향로 127',\n",
       " '경기도 부천시 원미구 성곡로69번길 93-0']"
      ]
     },
     "execution_count": 140,
     "metadata": {},
     "output_type": "execute_result"
    }
   ],
   "source": [
    "address_list = []\n",
    "\n",
    "# <address> 태그 모두 찾기.\n",
    "addressList = html.find_all(\"address\")  # bs4.element.ResultSet 형식으로 반환\n",
    "\n",
    "for address in addressList:\n",
    "    address = address.contents[0]\n",
    "    address_list.append(address)\n",
    "\n",
    "address_list = address_list[:10]\n",
    "address_list"
   ]
  },
  {
   "cell_type": "code",
   "execution_count": 141,
   "metadata": {},
   "outputs": [
    {
     "data": {
      "text/plain": [
       "[' GS25시(온양점)',\n",
       " ' 파크리오아파트 5초소',\n",
       " '(CU)인덕원대우점',\n",
       " '(복)꿀벌어린이집',\n",
       " '(부천시) 색연필문구점',\n",
       " '(부천시)365plus(부천늘사랑점)',\n",
       " '(부천시)8080마트',\n",
       " '(부천시)88슈퍼',\n",
       " '(부천시)BC800커피부천중앙공원점',\n",
       " '(부천시)CU도당누리점']"
      ]
     },
     "execution_count": 141,
     "metadata": {},
     "output_type": "execute_result"
    }
   ],
   "source": [
    "title_list = []\n",
    "\n",
    "# class이름이 title인 모든 태그의 값 찾기.\n",
    "titleList = html.select(\".title\")   # list로 반환.\n",
    "\n",
    "for title in titleList:\n",
    "    title_list.append(title.contents[0])\n",
    "\n",
    "len(title_list)\n",
    "title_list"
   ]
  },
  {
   "cell_type": "code",
   "execution_count": 142,
   "metadata": {},
   "outputs": [
    {
     "name": "stdout",
     "output_type": "stream",
     "text": [
      "['129.2949859', '127.1112718', '126.9769458', '128.6136158', '126.7475113', '126.7882148', '126.7834077', '126.7617701', '126.7619535', '126.7923869']\n",
      "['35.4081475', '37.5211626', '37.3941264', '35.8773562', '37.4976912', '37.4849247', '37.4975708', '37.4943726', '37.5024387', '37.5186389']\n"
     ]
    }
   ],
   "source": [
    "latlan_x_list = []\n",
    "latlan_y_list = []\n",
    "\n",
    "select = \"li a.title\"\n",
    "\n",
    "links = html.select(select)\n",
    "\n",
    "for link in links:\n",
    "    if link.has_attr(\"href\") == True:\n",
    "        href = link[\"href\"]\n",
    "        words_list = href.split(sep=\"'\")\n",
    "        latlan_x_list.append(words_list[1])\n",
    "        latlan_y_list.append(words_list[3])\n",
    "        \n",
    "print(latlan_x_list)\n",
    "print(latlan_y_list)"
   ]
  },
  {
   "cell_type": "code",
   "execution_count": 143,
   "metadata": {},
   "outputs": [],
   "source": [
    "import pandas as pd\n",
    "\n",
    "# s:이름, s1:주소, s2:좌표\n",
    "s = pd.DataFrame(title_list, columns=['이름'])\n",
    "s1 = pd.DataFrame(address_list, columns=['주소'])\n",
    "s2 = pd.DataFrame(latlan_x_list, columns=['x좌표'])\n",
    "s3 = pd.DataFrame(latlan_y_list, columns=['y좌표'])"
   ]
  },
  {
   "cell_type": "code",
   "execution_count": 144,
   "metadata": {},
   "outputs": [
    {
     "data": {
      "text/html": [
       "<div>\n",
       "<style scoped>\n",
       "    .dataframe tbody tr th:only-of-type {\n",
       "        vertical-align: middle;\n",
       "    }\n",
       "\n",
       "    .dataframe tbody tr th {\n",
       "        vertical-align: top;\n",
       "    }\n",
       "\n",
       "    .dataframe thead th {\n",
       "        text-align: right;\n",
       "    }\n",
       "</style>\n",
       "<table border=\"1\" class=\"dataframe\">\n",
       "  <thead>\n",
       "    <tr style=\"text-align: right;\">\n",
       "      <th></th>\n",
       "      <th>이름</th>\n",
       "    </tr>\n",
       "  </thead>\n",
       "  <tbody>\n",
       "    <tr>\n",
       "      <th>0</th>\n",
       "      <td>GS25시(온양점)</td>\n",
       "    </tr>\n",
       "    <tr>\n",
       "      <th>1</th>\n",
       "      <td>파크리오아파트 5초소</td>\n",
       "    </tr>\n",
       "    <tr>\n",
       "      <th>2</th>\n",
       "      <td>(CU)인덕원대우점</td>\n",
       "    </tr>\n",
       "    <tr>\n",
       "      <th>3</th>\n",
       "      <td>(복)꿀벌어린이집</td>\n",
       "    </tr>\n",
       "    <tr>\n",
       "      <th>4</th>\n",
       "      <td>(부천시) 색연필문구점</td>\n",
       "    </tr>\n",
       "  </tbody>\n",
       "</table>\n",
       "</div>"
      ],
      "text/plain": [
       "             이름\n",
       "0    GS25시(온양점)\n",
       "1   파크리오아파트 5초소\n",
       "2    (CU)인덕원대우점\n",
       "3     (복)꿀벌어린이집\n",
       "4  (부천시) 색연필문구점"
      ]
     },
     "execution_count": 144,
     "metadata": {},
     "output_type": "execute_result"
    }
   ],
   "source": [
    "s.head()"
   ]
  },
  {
   "cell_type": "code",
   "execution_count": 145,
   "metadata": {},
   "outputs": [
    {
     "data": {
      "text/html": [
       "<div>\n",
       "<style scoped>\n",
       "    .dataframe tbody tr th:only-of-type {\n",
       "        vertical-align: middle;\n",
       "    }\n",
       "\n",
       "    .dataframe tbody tr th {\n",
       "        vertical-align: top;\n",
       "    }\n",
       "\n",
       "    .dataframe thead th {\n",
       "        text-align: right;\n",
       "    }\n",
       "</style>\n",
       "<table border=\"1\" class=\"dataframe\">\n",
       "  <thead>\n",
       "    <tr style=\"text-align: right;\">\n",
       "      <th></th>\n",
       "      <th>주소</th>\n",
       "    </tr>\n",
       "  </thead>\n",
       "  <tbody>\n",
       "    <tr>\n",
       "      <th>0</th>\n",
       "      <td>울산시 울주군 온양읍 발리 600-5</td>\n",
       "    </tr>\n",
       "    <tr>\n",
       "      <th>1</th>\n",
       "      <td>서울 송파구 신천동 20 파크리오아파트 5초소(성내천 방향)</td>\n",
       "    </tr>\n",
       "    <tr>\n",
       "      <th>2</th>\n",
       "      <td>경기도 안양시 동안구 평촌동</td>\n",
       "    </tr>\n",
       "    <tr>\n",
       "      <th>3</th>\n",
       "      <td>대구 동구 신암2동 459-11</td>\n",
       "    </tr>\n",
       "    <tr>\n",
       "      <th>4</th>\n",
       "      <td>경기도 부천시 부흥로 49-0</td>\n",
       "    </tr>\n",
       "  </tbody>\n",
       "</table>\n",
       "</div>"
      ],
      "text/plain": [
       "                                   주소\n",
       "0                울산시 울주군 온양읍 발리 600-5\n",
       "1   서울 송파구 신천동 20 파크리오아파트 5초소(성내천 방향)\n",
       "2                     경기도 안양시 동안구 평촌동\n",
       "3                   대구 동구 신암2동 459-11\n",
       "4                    경기도 부천시 부흥로 49-0"
      ]
     },
     "execution_count": 145,
     "metadata": {},
     "output_type": "execute_result"
    }
   ],
   "source": [
    "s1.head()"
   ]
  },
  {
   "cell_type": "code",
   "execution_count": 146,
   "metadata": {},
   "outputs": [
    {
     "data": {
      "text/html": [
       "<div>\n",
       "<style scoped>\n",
       "    .dataframe tbody tr th:only-of-type {\n",
       "        vertical-align: middle;\n",
       "    }\n",
       "\n",
       "    .dataframe tbody tr th {\n",
       "        vertical-align: top;\n",
       "    }\n",
       "\n",
       "    .dataframe thead th {\n",
       "        text-align: right;\n",
       "    }\n",
       "</style>\n",
       "<table border=\"1\" class=\"dataframe\">\n",
       "  <thead>\n",
       "    <tr style=\"text-align: right;\">\n",
       "      <th></th>\n",
       "      <th>x좌표</th>\n",
       "    </tr>\n",
       "  </thead>\n",
       "  <tbody>\n",
       "    <tr>\n",
       "      <th>0</th>\n",
       "      <td>129.2949859</td>\n",
       "    </tr>\n",
       "    <tr>\n",
       "      <th>1</th>\n",
       "      <td>127.1112718</td>\n",
       "    </tr>\n",
       "    <tr>\n",
       "      <th>2</th>\n",
       "      <td>126.9769458</td>\n",
       "    </tr>\n",
       "    <tr>\n",
       "      <th>3</th>\n",
       "      <td>128.6136158</td>\n",
       "    </tr>\n",
       "    <tr>\n",
       "      <th>4</th>\n",
       "      <td>126.7475113</td>\n",
       "    </tr>\n",
       "  </tbody>\n",
       "</table>\n",
       "</div>"
      ],
      "text/plain": [
       "           x좌표\n",
       "0  129.2949859\n",
       "1  127.1112718\n",
       "2  126.9769458\n",
       "3  128.6136158\n",
       "4  126.7475113"
      ]
     },
     "execution_count": 146,
     "metadata": {},
     "output_type": "execute_result"
    }
   ],
   "source": [
    "s2.head()"
   ]
  },
  {
   "cell_type": "code",
   "execution_count": 147,
   "metadata": {},
   "outputs": [
    {
     "data": {
      "text/html": [
       "<div>\n",
       "<style scoped>\n",
       "    .dataframe tbody tr th:only-of-type {\n",
       "        vertical-align: middle;\n",
       "    }\n",
       "\n",
       "    .dataframe tbody tr th {\n",
       "        vertical-align: top;\n",
       "    }\n",
       "\n",
       "    .dataframe thead th {\n",
       "        text-align: right;\n",
       "    }\n",
       "</style>\n",
       "<table border=\"1\" class=\"dataframe\">\n",
       "  <thead>\n",
       "    <tr style=\"text-align: right;\">\n",
       "      <th></th>\n",
       "      <th>이름</th>\n",
       "      <th>주소</th>\n",
       "      <th>x좌표</th>\n",
       "      <th>y좌표</th>\n",
       "    </tr>\n",
       "  </thead>\n",
       "  <tbody>\n",
       "    <tr>\n",
       "      <th>0</th>\n",
       "      <td>GS25시(온양점)</td>\n",
       "      <td>울산시 울주군 온양읍 발리 600-5</td>\n",
       "      <td>129.2949859</td>\n",
       "      <td>35.4081475</td>\n",
       "    </tr>\n",
       "    <tr>\n",
       "      <th>1</th>\n",
       "      <td>파크리오아파트 5초소</td>\n",
       "      <td>서울 송파구 신천동 20 파크리오아파트 5초소(성내천 방향)</td>\n",
       "      <td>127.1112718</td>\n",
       "      <td>37.5211626</td>\n",
       "    </tr>\n",
       "    <tr>\n",
       "      <th>2</th>\n",
       "      <td>(CU)인덕원대우점</td>\n",
       "      <td>경기도 안양시 동안구 평촌동</td>\n",
       "      <td>126.9769458</td>\n",
       "      <td>37.3941264</td>\n",
       "    </tr>\n",
       "    <tr>\n",
       "      <th>3</th>\n",
       "      <td>(복)꿀벌어린이집</td>\n",
       "      <td>대구 동구 신암2동 459-11</td>\n",
       "      <td>128.6136158</td>\n",
       "      <td>35.8773562</td>\n",
       "    </tr>\n",
       "    <tr>\n",
       "      <th>4</th>\n",
       "      <td>(부천시) 색연필문구점</td>\n",
       "      <td>경기도 부천시 부흥로 49-0</td>\n",
       "      <td>126.7475113</td>\n",
       "      <td>37.4976912</td>\n",
       "    </tr>\n",
       "    <tr>\n",
       "      <th>5</th>\n",
       "      <td>(부천시)365plus(부천늘사랑점)</td>\n",
       "      <td>경기도 부천시 원미구 심곡동,129-2</td>\n",
       "      <td>126.7882148</td>\n",
       "      <td>37.4849247</td>\n",
       "    </tr>\n",
       "    <tr>\n",
       "      <th>6</th>\n",
       "      <td>(부천시)8080마트</td>\n",
       "      <td>경기도 부천시 원미구 심곡동,33</td>\n",
       "      <td>126.7834077</td>\n",
       "      <td>37.4975708</td>\n",
       "    </tr>\n",
       "    <tr>\n",
       "      <th>7</th>\n",
       "      <td>(부천시)88슈퍼</td>\n",
       "      <td>경기도 부천시 원미구 중동,733-4</td>\n",
       "      <td>126.7617701</td>\n",
       "      <td>37.4943726</td>\n",
       "    </tr>\n",
       "    <tr>\n",
       "      <th>8</th>\n",
       "      <td>(부천시)BC800커피부천중앙공원점</td>\n",
       "      <td>경기도 부천시 소향로 127-0,소향로 127</td>\n",
       "      <td>126.7619535</td>\n",
       "      <td>37.5024387</td>\n",
       "    </tr>\n",
       "    <tr>\n",
       "      <th>9</th>\n",
       "      <td>(부천시)CU도당누리점</td>\n",
       "      <td>경기도 부천시 원미구 성곡로69번길 93-0</td>\n",
       "      <td>126.7923869</td>\n",
       "      <td>37.5186389</td>\n",
       "    </tr>\n",
       "  </tbody>\n",
       "</table>\n",
       "</div>"
      ],
      "text/plain": [
       "                     이름                                  주소          x좌표  \\\n",
       "0            GS25시(온양점)                울산시 울주군 온양읍 발리 600-5  129.2949859   \n",
       "1           파크리오아파트 5초소   서울 송파구 신천동 20 파크리오아파트 5초소(성내천 방향)  127.1112718   \n",
       "2            (CU)인덕원대우점                     경기도 안양시 동안구 평촌동  126.9769458   \n",
       "3             (복)꿀벌어린이집                   대구 동구 신암2동 459-11  128.6136158   \n",
       "4          (부천시) 색연필문구점                    경기도 부천시 부흥로 49-0  126.7475113   \n",
       "5  (부천시)365plus(부천늘사랑점)               경기도 부천시 원미구 심곡동,129-2  126.7882148   \n",
       "6           (부천시)8080마트                  경기도 부천시 원미구 심곡동,33  126.7834077   \n",
       "7             (부천시)88슈퍼                경기도 부천시 원미구 중동,733-4  126.7617701   \n",
       "8   (부천시)BC800커피부천중앙공원점           경기도 부천시 소향로 127-0,소향로 127  126.7619535   \n",
       "9          (부천시)CU도당누리점            경기도 부천시 원미구 성곡로69번길 93-0  126.7923869   \n",
       "\n",
       "          y좌표  \n",
       "0  35.4081475  \n",
       "1  37.5211626  \n",
       "2  37.3941264  \n",
       "3  35.8773562  \n",
       "4  37.4976912  \n",
       "5  37.4849247  \n",
       "6  37.4975708  \n",
       "7  37.4943726  \n",
       "8  37.5024387  \n",
       "9  37.5186389  "
      ]
     },
     "execution_count": 147,
     "metadata": {},
     "output_type": "execute_result"
    }
   ],
   "source": [
    "df = ((s.join(s1)).join(s2)).join(s3)\n",
    "df"
   ]
  },
  {
   "cell_type": "markdown",
   "metadata": {},
   "source": [
    "# 다음페이지로 이동"
   ]
  },
  {
   "cell_type": "code",
   "execution_count": 132,
   "metadata": {},
   "outputs": [],
   "source": [
    "i = 0\n",
    "i = i+1\n",
    "pageNo = str()"
   ]
  },
  {
   "cell_type": "code",
   "execution_count": 133,
   "metadata": {},
   "outputs": [],
   "source": [
    "driver.find_element_by_link_text(pageNo).click()"
   ]
  },
  {
   "cell_type": "code",
   "execution_count": null,
   "metadata": {},
   "outputs": [],
   "source": []
  }
 ],
 "metadata": {
  "kernelspec": {
   "display_name": "Python 3",
   "language": "python",
   "name": "python3"
  },
  "language_info": {
   "codemirror_mode": {
    "name": "ipython",
    "version": 3
   },
   "file_extension": ".py",
   "mimetype": "text/x-python",
   "name": "python",
   "nbconvert_exporter": "python",
   "pygments_lexer": "ipython3",
   "version": "3.6.5"
  }
 },
 "nbformat": 4,
 "nbformat_minor": 2
}

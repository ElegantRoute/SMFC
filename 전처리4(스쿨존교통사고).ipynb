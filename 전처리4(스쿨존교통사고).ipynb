{
 "cells": [
  {
   "cell_type": "code",
   "execution_count": 3,
   "metadata": {},
   "outputs": [],
   "source": [
    "import pandas as pd"
   ]
  },
  {
   "cell_type": "code",
   "execution_count": 19,
   "metadata": {},
   "outputs": [],
   "source": [
    "import requests"
   ]
  },
  {
   "cell_type": "code",
   "execution_count": 65,
   "metadata": {},
   "outputs": [],
   "source": [
    "year = {2017026 : 2016, 2016040 : 2015, 2015042 : 2014, 2014095 : 2013, 2013060 : 2012}"
   ]
  },
  {
   "cell_type": "code",
   "execution_count": 71,
   "metadata": {},
   "outputs": [],
   "source": [
    "hang = pd.read_csv('bub.txt',encoding='cp949',sep='\\t')"
   ]
  },
  {
   "cell_type": "code",
   "execution_count": 72,
   "metadata": {},
   "outputs": [
    {
     "data": {
      "text/html": [
       "<div>\n",
       "<style scoped>\n",
       "    .dataframe tbody tr th:only-of-type {\n",
       "        vertical-align: middle;\n",
       "    }\n",
       "\n",
       "    .dataframe tbody tr th {\n",
       "        vertical-align: top;\n",
       "    }\n",
       "\n",
       "    .dataframe thead th {\n",
       "        text-align: right;\n",
       "    }\n",
       "</style>\n",
       "<table border=\"1\" class=\"dataframe\">\n",
       "  <thead>\n",
       "    <tr style=\"text-align: right;\">\n",
       "      <th></th>\n",
       "      <th>법정동코드</th>\n",
       "      <th>법정동명</th>\n",
       "      <th>폐지여부</th>\n",
       "    </tr>\n",
       "  </thead>\n",
       "  <tbody>\n",
       "    <tr>\n",
       "      <th>0</th>\n",
       "      <td>1100000000</td>\n",
       "      <td>서울특별시</td>\n",
       "      <td>존재</td>\n",
       "    </tr>\n",
       "    <tr>\n",
       "      <th>1</th>\n",
       "      <td>1111000000</td>\n",
       "      <td>서울특별시 종로구</td>\n",
       "      <td>존재</td>\n",
       "    </tr>\n",
       "    <tr>\n",
       "      <th>2</th>\n",
       "      <td>1111010100</td>\n",
       "      <td>서울특별시 종로구 청운동</td>\n",
       "      <td>존재</td>\n",
       "    </tr>\n",
       "    <tr>\n",
       "      <th>3</th>\n",
       "      <td>1111010200</td>\n",
       "      <td>서울특별시 종로구 신교동</td>\n",
       "      <td>존재</td>\n",
       "    </tr>\n",
       "    <tr>\n",
       "      <th>4</th>\n",
       "      <td>1111010300</td>\n",
       "      <td>서울특별시 종로구 궁정동</td>\n",
       "      <td>존재</td>\n",
       "    </tr>\n",
       "  </tbody>\n",
       "</table>\n",
       "</div>"
      ],
      "text/plain": [
       "        법정동코드           법정동명 폐지여부\n",
       "0  1100000000          서울특별시   존재\n",
       "1  1111000000      서울특별시 종로구   존재\n",
       "2  1111010100  서울특별시 종로구 청운동   존재\n",
       "3  1111010200  서울특별시 종로구 신교동   존재\n",
       "4  1111010300  서울특별시 종로구 궁정동   존재"
      ]
     },
     "execution_count": 72,
     "metadata": {},
     "output_type": "execute_result"
    }
   ],
   "source": [
    "hang.head()"
   ]
  },
  {
   "cell_type": "code",
   "execution_count": 73,
   "metadata": {},
   "outputs": [],
   "source": [
    "hang.drop(columns='폐지여부',inplace=True)"
   ]
  },
  {
   "cell_type": "code",
   "execution_count": 52,
   "metadata": {},
   "outputs": [],
   "source": [
    "address=[]\n",
    "for i in school['법정동코드'] :\n",
    "    for k,j in enumerate(hang['법정동코드']) :\n",
    "        if i == j:\n",
    "            address.append(hang['법정동명'][k])"
   ]
  },
  {
   "cell_type": "code",
   "execution_count": 53,
   "metadata": {},
   "outputs": [
    {
     "data": {
      "text/plain": [
       "47"
      ]
     },
     "execution_count": 53,
     "metadata": {},
     "output_type": "execute_result"
    }
   ],
   "source": [
    "len(address)"
   ]
  },
  {
   "cell_type": "code",
   "execution_count": 47,
   "metadata": {},
   "outputs": [],
   "source": [
    "df = pd.read_csv('12_16_schoolzone.txt',encoding='cp949',sep='\\t')"
   ]
  },
  {
   "cell_type": "code",
   "execution_count": 52,
   "metadata": {},
   "outputs": [
    {
     "name": "stdout",
     "output_type": "stream",
     "text": [
      "Index(['다발지식별자', '다발지그룹식별자', '법정동코드', '스팟코드', '관할경찰서', '다발지명', '발생건수', '사상자수',\n",
      "       '사망자수', '중상자수',\n",
      "       ...\n",
      "       'Unnamed: 151', 'Unnamed: 152', 'Unnamed: 153', 'Unnamed: 154',\n",
      "       'Unnamed: 155', 'Unnamed: 156', 'Unnamed: 157', 'Unnamed: 158',\n",
      "       'Unnamed: 159', 'Unnamed: 160'],\n",
      "      dtype='object', length=161)\n"
     ]
    }
   ],
   "source": [
    "print(df.columns)"
   ]
  },
  {
   "cell_type": "code",
   "execution_count": 37,
   "metadata": {
    "scrolled": true
   },
   "outputs": [
    {
     "name": "stdout",
     "output_type": "stream",
     "text": [
      "<class 'pandas.core.frame.DataFrame'>\n",
      "RangeIndex: 195 entries, 0 to 194\n",
      "Columns: 161 entries, 다발지식별자 to Unnamed: 160\n",
      "dtypes: float64(2), int64(10), object(149)\n",
      "memory usage: 245.4+ KB\n"
     ]
    }
   ],
   "source": [
    "df.info()"
   ]
  },
  {
   "cell_type": "code",
   "execution_count": 59,
   "metadata": {},
   "outputs": [],
   "source": [
    "df = df[['다발지식별자','다발지그룹식별자','법정동코드','관할경찰서','다발지명','발생건수','사상자수','사망자수','중상자수','경상자수','부상신고자수','위도','경도']]"
   ]
  },
  {
   "cell_type": "code",
   "execution_count": 60,
   "metadata": {},
   "outputs": [],
   "source": [
    "df.set_index('다발지명',inplace=True)"
   ]
  },
  {
   "cell_type": "code",
   "execution_count": 61,
   "metadata": {},
   "outputs": [],
   "source": [
    "df = df.filter(regex='서울특별시', axis = 0)"
   ]
  },
  {
   "cell_type": "code",
   "execution_count": 63,
   "metadata": {
    "scrolled": true
   },
   "outputs": [],
   "source": [
    "df.reset_index(inplace=True)"
   ]
  },
  {
   "cell_type": "code",
   "execution_count": 66,
   "metadata": {},
   "outputs": [],
   "source": [
    "for i in year.keys():\n",
    "    df.다발지그룹식별자.replace(i,year[i],inplace=True)"
   ]
  },
  {
   "cell_type": "code",
   "execution_count": 67,
   "metadata": {},
   "outputs": [
    {
     "data": {
      "text/html": [
       "<div>\n",
       "<style scoped>\n",
       "    .dataframe tbody tr th:only-of-type {\n",
       "        vertical-align: middle;\n",
       "    }\n",
       "\n",
       "    .dataframe tbody tr th {\n",
       "        vertical-align: top;\n",
       "    }\n",
       "\n",
       "    .dataframe thead th {\n",
       "        text-align: right;\n",
       "    }\n",
       "</style>\n",
       "<table border=\"1\" class=\"dataframe\">\n",
       "  <thead>\n",
       "    <tr style=\"text-align: right;\">\n",
       "      <th></th>\n",
       "      <th>다발지명</th>\n",
       "      <th>다발지식별자</th>\n",
       "      <th>다발지그룹식별자</th>\n",
       "      <th>법정동코드</th>\n",
       "      <th>관할경찰서</th>\n",
       "      <th>발생건수</th>\n",
       "      <th>사상자수</th>\n",
       "      <th>사망자수</th>\n",
       "      <th>중상자수</th>\n",
       "      <th>경상자수</th>\n",
       "      <th>부상신고자수</th>\n",
       "      <th>위도</th>\n",
       "      <th>경도</th>\n",
       "    </tr>\n",
       "  </thead>\n",
       "  <tbody>\n",
       "    <tr>\n",
       "      <th>0</th>\n",
       "      <td>서울특별시 노원구 상계동(동일초교 부근)</td>\n",
       "      <td>99847</td>\n",
       "      <td>2012</td>\n",
       "      <td>1135010500</td>\n",
       "      <td>서울특별시 노원구1</td>\n",
       "      <td>2</td>\n",
       "      <td>2</td>\n",
       "      <td>1</td>\n",
       "      <td>1</td>\n",
       "      <td>0</td>\n",
       "      <td>0</td>\n",
       "      <td>37.664437</td>\n",
       "      <td>127.056828</td>\n",
       "    </tr>\n",
       "    <tr>\n",
       "      <th>1</th>\n",
       "      <td>서울특별시 성북구 동소문동7가(정덕초교 부근)</td>\n",
       "      <td>98904</td>\n",
       "      <td>2012</td>\n",
       "      <td>1129011000</td>\n",
       "      <td>서울특별시 성북구2</td>\n",
       "      <td>2</td>\n",
       "      <td>2</td>\n",
       "      <td>0</td>\n",
       "      <td>2</td>\n",
       "      <td>0</td>\n",
       "      <td>0</td>\n",
       "      <td>37.597571</td>\n",
       "      <td>127.014564</td>\n",
       "    </tr>\n",
       "    <tr>\n",
       "      <th>2</th>\n",
       "      <td>서울특별시 도봉구 쌍문동(쌍문초교 부근)</td>\n",
       "      <td>99209</td>\n",
       "      <td>2012</td>\n",
       "      <td>1132010500</td>\n",
       "      <td>서울특별시 도봉구1</td>\n",
       "      <td>2</td>\n",
       "      <td>2</td>\n",
       "      <td>0</td>\n",
       "      <td>0</td>\n",
       "      <td>2</td>\n",
       "      <td>0</td>\n",
       "      <td>37.648129</td>\n",
       "      <td>127.024430</td>\n",
       "    </tr>\n",
       "    <tr>\n",
       "      <th>3</th>\n",
       "      <td>서울특별시 종로구 혜화동(혜화초교 부근)</td>\n",
       "      <td>99210</td>\n",
       "      <td>2012</td>\n",
       "      <td>1111016900</td>\n",
       "      <td>서울특별시 종로구1</td>\n",
       "      <td>2</td>\n",
       "      <td>2</td>\n",
       "      <td>0</td>\n",
       "      <td>1</td>\n",
       "      <td>1</td>\n",
       "      <td>0</td>\n",
       "      <td>37.588413</td>\n",
       "      <td>126.999607</td>\n",
       "    </tr>\n",
       "    <tr>\n",
       "      <th>4</th>\n",
       "      <td>서울특별시 송파구 방이동(방산초교 부근)</td>\n",
       "      <td>99214</td>\n",
       "      <td>2012</td>\n",
       "      <td>1171011100</td>\n",
       "      <td>서울특별시 송파구1</td>\n",
       "      <td>2</td>\n",
       "      <td>2</td>\n",
       "      <td>0</td>\n",
       "      <td>0</td>\n",
       "      <td>2</td>\n",
       "      <td>0</td>\n",
       "      <td>37.509797</td>\n",
       "      <td>127.122101</td>\n",
       "    </tr>\n",
       "  </tbody>\n",
       "</table>\n",
       "</div>"
      ],
      "text/plain": [
       "                        다발지명  다발지식별자  다발지그룹식별자       법정동코드       관할경찰서  발생건수  \\\n",
       "0     서울특별시 노원구 상계동(동일초교 부근)   99847      2012  1135010500  서울특별시 노원구1     2   \n",
       "1  서울특별시 성북구 동소문동7가(정덕초교 부근)   98904      2012  1129011000  서울특별시 성북구2     2   \n",
       "2     서울특별시 도봉구 쌍문동(쌍문초교 부근)   99209      2012  1132010500  서울특별시 도봉구1     2   \n",
       "3     서울특별시 종로구 혜화동(혜화초교 부근)   99210      2012  1111016900  서울특별시 종로구1     2   \n",
       "4     서울특별시 송파구 방이동(방산초교 부근)   99214      2012  1171011100  서울특별시 송파구1     2   \n",
       "\n",
       "   사상자수  사망자수  중상자수  경상자수  부상신고자수         위도          경도  \n",
       "0     2     1     1     0       0  37.664437  127.056828  \n",
       "1     2     0     2     0       0  37.597571  127.014564  \n",
       "2     2     0     0     2       0  37.648129  127.024430  \n",
       "3     2     0     1     1       0  37.588413  126.999607  \n",
       "4     2     0     0     2       0  37.509797  127.122101  "
      ]
     },
     "execution_count": 67,
     "metadata": {},
     "output_type": "execute_result"
    }
   ],
   "source": [
    "df.head()"
   ]
  },
  {
   "cell_type": "code",
   "execution_count": 68,
   "metadata": {},
   "outputs": [],
   "source": [
    "df.drop(columns='다발지식별자',inplace=True)"
   ]
  },
  {
   "cell_type": "code",
   "execution_count": 80,
   "metadata": {},
   "outputs": [],
   "source": [
    "import re"
   ]
  },
  {
   "cell_type": "code",
   "execution_count": 85,
   "metadata": {},
   "outputs": [],
   "source": [
    "p1 = re.compile(r'([가-힣]+ +?[가-힣]+ +?[가-힣0-9]+).*')"
   ]
  },
  {
   "cell_type": "code",
   "execution_count": 89,
   "metadata": {},
   "outputs": [],
   "source": [
    "법정동 = []\n",
    "for i in df['다발지명'] :\n",
    "    j = p1.sub(r'\\g<1>',i)\n",
    "    법정동.append(j)"
   ]
  },
  {
   "cell_type": "code",
   "execution_count": 91,
   "metadata": {
    "scrolled": true
   },
   "outputs": [],
   "source": [
    "df['법정동'] = 법정동"
   ]
  },
  {
   "cell_type": "code",
   "execution_count": 93,
   "metadata": {},
   "outputs": [],
   "source": [
    "df.rename(columns={'다발지그룹식별자': '연도'},inplace=True)"
   ]
  },
  {
   "cell_type": "code",
   "execution_count": 96,
   "metadata": {},
   "outputs": [],
   "source": [
    "df = df[['연도','법정동코드','법정동','다발지명','관할경찰서','발생건수','사상자수','사망자수','중상자수','경상자수','부상신고자수','위도','경도']]"
   ]
  },
  {
   "cell_type": "code",
   "execution_count": 97,
   "metadata": {},
   "outputs": [],
   "source": [
    "df.to_csv('schoolzone.csv',encoding='cp949')"
   ]
  },
  {
   "cell_type": "code",
   "execution_count": 104,
   "metadata": {},
   "outputs": [],
   "source": [
    "pp = pd.read_excel('12_16_child.xlsx')"
   ]
  },
  {
   "cell_type": "code",
   "execution_count": 99,
   "metadata": {
    "scrolled": true
   },
   "outputs": [
    {
     "data": {
      "text/html": [
       "<div>\n",
       "<style scoped>\n",
       "    .dataframe tbody tr th:only-of-type {\n",
       "        vertical-align: middle;\n",
       "    }\n",
       "\n",
       "    .dataframe tbody tr th {\n",
       "        vertical-align: top;\n",
       "    }\n",
       "\n",
       "    .dataframe thead th {\n",
       "        text-align: right;\n",
       "    }\n",
       "</style>\n",
       "<table border=\"1\" class=\"dataframe\">\n",
       "  <thead>\n",
       "    <tr style=\"text-align: right;\">\n",
       "      <th></th>\n",
       "      <th>다발지식별자</th>\n",
       "      <th>다발지그룹식별자</th>\n",
       "      <th>법정동코드</th>\n",
       "      <th>스팟코드</th>\n",
       "      <th>관할경찰서</th>\n",
       "      <th>다발지명</th>\n",
       "      <th>발생건수</th>\n",
       "      <th>사상자수</th>\n",
       "      <th>사망자수</th>\n",
       "      <th>중상자수</th>\n",
       "      <th>...</th>\n",
       "      <th>Unnamed: 152</th>\n",
       "      <th>Unnamed: 153</th>\n",
       "      <th>Unnamed: 154</th>\n",
       "      <th>Unnamed: 155</th>\n",
       "      <th>Unnamed: 156</th>\n",
       "      <th>Unnamed: 157</th>\n",
       "      <th>Unnamed: 158</th>\n",
       "      <th>Unnamed: 159</th>\n",
       "      <th>Unnamed: 160</th>\n",
       "      <th>Unnamed: 161</th>\n",
       "    </tr>\n",
       "  </thead>\n",
       "  <tbody>\n",
       "    <tr>\n",
       "      <th>0</th>\n",
       "      <td>197762</td>\n",
       "      <td>2014110</td>\n",
       "      <td>2726011800</td>\n",
       "      <td>27260001</td>\n",
       "      <td>대구광역시 수성구1</td>\n",
       "      <td>대구광역시 수성구 신매동(사월화성파크드림 부근)</td>\n",
       "      <td>3</td>\n",
       "      <td>3</td>\n",
       "      <td>0</td>\n",
       "      <td>2</td>\n",
       "      <td>...</td>\n",
       "      <td>NaN</td>\n",
       "      <td>NaN</td>\n",
       "      <td>NaN</td>\n",
       "      <td>NaN</td>\n",
       "      <td>NaN</td>\n",
       "      <td>NaN</td>\n",
       "      <td>NaN</td>\n",
       "      <td>NaN</td>\n",
       "      <td>NaN</td>\n",
       "      <td>NaN</td>\n",
       "    </tr>\n",
       "    <tr>\n",
       "      <th>1</th>\n",
       "      <td>197765</td>\n",
       "      <td>2014110</td>\n",
       "      <td>2729010700</td>\n",
       "      <td>27290003</td>\n",
       "      <td>대구광역시 달서구3</td>\n",
       "      <td>대구광역시 달서구 신당동(성서주공네거리 부근)</td>\n",
       "      <td>3</td>\n",
       "      <td>4</td>\n",
       "      <td>0</td>\n",
       "      <td>0</td>\n",
       "      <td>...</td>\n",
       "      <td>NaN</td>\n",
       "      <td>NaN</td>\n",
       "      <td>NaN</td>\n",
       "      <td>NaN</td>\n",
       "      <td>NaN</td>\n",
       "      <td>NaN</td>\n",
       "      <td>NaN</td>\n",
       "      <td>NaN</td>\n",
       "      <td>NaN</td>\n",
       "      <td>NaN</td>\n",
       "    </tr>\n",
       "    <tr>\n",
       "      <th>2</th>\n",
       "      <td>197766</td>\n",
       "      <td>2014110</td>\n",
       "      <td>2820010100</td>\n",
       "      <td>28200001</td>\n",
       "      <td>인천광역시 남동구1</td>\n",
       "      <td>인천광역시 남동구 구월동(모래마을사거리 부근)</td>\n",
       "      <td>3</td>\n",
       "      <td>3</td>\n",
       "      <td>0</td>\n",
       "      <td>3</td>\n",
       "      <td>...</td>\n",
       "      <td>NaN</td>\n",
       "      <td>NaN</td>\n",
       "      <td>NaN</td>\n",
       "      <td>NaN</td>\n",
       "      <td>NaN</td>\n",
       "      <td>NaN</td>\n",
       "      <td>NaN</td>\n",
       "      <td>NaN</td>\n",
       "      <td>NaN</td>\n",
       "      <td>NaN</td>\n",
       "    </tr>\n",
       "    <tr>\n",
       "      <th>3</th>\n",
       "      <td>198728</td>\n",
       "      <td>2014110</td>\n",
       "      <td>4615031023</td>\n",
       "      <td>46150004</td>\n",
       "      <td>전라남도 순천시4</td>\n",
       "      <td>전라남도 순천시 해룡면(한소아과의원앞 부근)</td>\n",
       "      <td>4</td>\n",
       "      <td>4</td>\n",
       "      <td>0</td>\n",
       "      <td>1</td>\n",
       "      <td>...</td>\n",
       "      <td>NaN</td>\n",
       "      <td>NaN</td>\n",
       "      <td>NaN</td>\n",
       "      <td>NaN</td>\n",
       "      <td>NaN</td>\n",
       "      <td>NaN</td>\n",
       "      <td>NaN</td>\n",
       "      <td>NaN</td>\n",
       "      <td>NaN</td>\n",
       "      <td>NaN</td>\n",
       "    </tr>\n",
       "    <tr>\n",
       "      <th>4</th>\n",
       "      <td>198729</td>\n",
       "      <td>2014110</td>\n",
       "      <td>4677025026</td>\n",
       "      <td>46770001</td>\n",
       "      <td>전라남도 고흥군1</td>\n",
       "      <td>전라남도 고흥군 고흥읍(깔끔세탁소 부근)</td>\n",
       "      <td>4</td>\n",
       "      <td>4</td>\n",
       "      <td>0</td>\n",
       "      <td>2</td>\n",
       "      <td>...</td>\n",
       "      <td>NaN</td>\n",
       "      <td>NaN</td>\n",
       "      <td>NaN</td>\n",
       "      <td>NaN</td>\n",
       "      <td>NaN</td>\n",
       "      <td>NaN</td>\n",
       "      <td>NaN</td>\n",
       "      <td>NaN</td>\n",
       "      <td>NaN</td>\n",
       "      <td>NaN</td>\n",
       "    </tr>\n",
       "  </tbody>\n",
       "</table>\n",
       "<p>5 rows × 162 columns</p>\n",
       "</div>"
      ],
      "text/plain": [
       "   다발지식별자  다발지그룹식별자       법정동코드      스팟코드       관할경찰서  \\\n",
       "0  197762   2014110  2726011800  27260001  대구광역시 수성구1   \n",
       "1  197765   2014110  2729010700  27290003  대구광역시 달서구3   \n",
       "2  197766   2014110  2820010100  28200001  인천광역시 남동구1   \n",
       "3  198728   2014110  4615031023  46150004   전라남도 순천시4   \n",
       "4  198729   2014110  4677025026  46770001   전라남도 고흥군1   \n",
       "\n",
       "                         다발지명 발생건수  사상자수  사망자수  중상자수     ...       \\\n",
       "0  대구광역시 수성구 신매동(사월화성파크드림 부근)    3     3     0     2     ...        \n",
       "1   대구광역시 달서구 신당동(성서주공네거리 부근)    3     4     0     0     ...        \n",
       "2   인천광역시 남동구 구월동(모래마을사거리 부근)    3     3     0     3     ...        \n",
       "3    전라남도 순천시 해룡면(한소아과의원앞 부근)    4     4     0     1     ...        \n",
       "4      전라남도 고흥군 고흥읍(깔끔세탁소 부근)    4     4     0     2     ...        \n",
       "\n",
       "   Unnamed: 152  Unnamed: 153  Unnamed: 154  Unnamed: 155 Unnamed: 156  \\\n",
       "0           NaN           NaN           NaN           NaN          NaN   \n",
       "1           NaN           NaN           NaN           NaN          NaN   \n",
       "2           NaN           NaN           NaN           NaN          NaN   \n",
       "3           NaN           NaN           NaN           NaN          NaN   \n",
       "4           NaN           NaN           NaN           NaN          NaN   \n",
       "\n",
       "  Unnamed: 157 Unnamed: 158 Unnamed: 159 Unnamed: 160 Unnamed: 161  \n",
       "0          NaN          NaN          NaN          NaN          NaN  \n",
       "1          NaN          NaN          NaN          NaN          NaN  \n",
       "2          NaN          NaN          NaN          NaN          NaN  \n",
       "3          NaN          NaN          NaN          NaN          NaN  \n",
       "4          NaN          NaN          NaN          NaN          NaN  \n",
       "\n",
       "[5 rows x 162 columns]"
      ]
     },
     "execution_count": 99,
     "metadata": {},
     "output_type": "execute_result"
    }
   ],
   "source": [
    "pp.head()"
   ]
  },
  {
   "cell_type": "code",
   "execution_count": 105,
   "metadata": {},
   "outputs": [],
   "source": [
    "pp = pp[['다발지식별자','다발지그룹식별자','법정동코드','관할경찰서','다발지명','발생건수','사상자수','사망자수','중상자수','경상자수','부상신고자수','위도','경도']]\n",
    "pp.set_index('다발지명',inplace=True)\n",
    "pp = pp.filter(regex='서울특별시', axis = 0)\n",
    "pp.reset_index(inplace=True)\n",
    "year1 = {2017027:2016,2016044:2015,2015049:2014,2014110:2013,2013097:2012}\n",
    "for i in year1.keys():\n",
    "    pp.다발지그룹식별자.replace(i,year1[i],inplace=True)\n",
    "pp.drop(columns='다발지식별자',inplace=True)    \n",
    "법정동 = []\n",
    "for i in pp['다발지명'] :\n",
    "    j = p1.sub(r'\\g<1>',i)\n",
    "    법정동.append(j)\n",
    "pp['법정동'] = 법정동\n",
    "pp.rename(columns={'다발지그룹식별자': '연도'},inplace=True)\n",
    "pp = pp[['연도','법정동코드','법정동','다발지명','관할경찰서','발생건수','사상자수','사망자수','중상자수','경상자수','부상신고자수','위도','경도']]"
   ]
  },
  {
   "cell_type": "code",
   "execution_count": 106,
   "metadata": {},
   "outputs": [
    {
     "data": {
      "text/html": [
       "<div>\n",
       "<style scoped>\n",
       "    .dataframe tbody tr th:only-of-type {\n",
       "        vertical-align: middle;\n",
       "    }\n",
       "\n",
       "    .dataframe tbody tr th {\n",
       "        vertical-align: top;\n",
       "    }\n",
       "\n",
       "    .dataframe thead th {\n",
       "        text-align: right;\n",
       "    }\n",
       "</style>\n",
       "<table border=\"1\" class=\"dataframe\">\n",
       "  <thead>\n",
       "    <tr style=\"text-align: right;\">\n",
       "      <th></th>\n",
       "      <th>연도</th>\n",
       "      <th>법정동코드</th>\n",
       "      <th>법정동</th>\n",
       "      <th>다발지명</th>\n",
       "      <th>관할경찰서</th>\n",
       "      <th>발생건수</th>\n",
       "      <th>사상자수</th>\n",
       "      <th>사망자수</th>\n",
       "      <th>중상자수</th>\n",
       "      <th>경상자수</th>\n",
       "      <th>부상신고자수</th>\n",
       "      <th>위도</th>\n",
       "      <th>경도</th>\n",
       "    </tr>\n",
       "  </thead>\n",
       "  <tbody>\n",
       "    <tr>\n",
       "      <th>0</th>\n",
       "      <td>2012</td>\n",
       "      <td>1154510300</td>\n",
       "      <td>서울특별시 금천구 시흥동</td>\n",
       "      <td>서울특별시 금천구 시흥동(은행나무오거리 부근)</td>\n",
       "      <td>서울특별시 금천구2</td>\n",
       "      <td>4</td>\n",
       "      <td>6</td>\n",
       "      <td>0</td>\n",
       "      <td>1</td>\n",
       "      <td>5</td>\n",
       "      <td>0</td>\n",
       "      <td>37.451125</td>\n",
       "      <td>126.908656</td>\n",
       "    </tr>\n",
       "    <tr>\n",
       "      <th>1</th>\n",
       "      <td>2013</td>\n",
       "      <td>1121510100</td>\n",
       "      <td>서울특별시 광진구 중곡동</td>\n",
       "      <td>서울특별시 광진구 중곡동(신성시장 부근)</td>\n",
       "      <td>서울특별시 광진구1</td>\n",
       "      <td>3</td>\n",
       "      <td>3</td>\n",
       "      <td>0</td>\n",
       "      <td>1</td>\n",
       "      <td>2</td>\n",
       "      <td>0</td>\n",
       "      <td>37.557952</td>\n",
       "      <td>127.088880</td>\n",
       "    </tr>\n",
       "    <tr>\n",
       "      <th>2</th>\n",
       "      <td>2013</td>\n",
       "      <td>1114016200</td>\n",
       "      <td>서울특별시 중구 신당동</td>\n",
       "      <td>서울특별시 중구 신당동(약수역_다산로_진출_2 부근)</td>\n",
       "      <td>서울특별시 중구2</td>\n",
       "      <td>4</td>\n",
       "      <td>5</td>\n",
       "      <td>0</td>\n",
       "      <td>2</td>\n",
       "      <td>3</td>\n",
       "      <td>0</td>\n",
       "      <td>37.555718</td>\n",
       "      <td>127.011329</td>\n",
       "    </tr>\n",
       "    <tr>\n",
       "      <th>3</th>\n",
       "      <td>2013</td>\n",
       "      <td>1123011000</td>\n",
       "      <td>서울특별시 동대문구 이문동</td>\n",
       "      <td>서울특별시 동대문구 이문동(외대앞역앞교차로 부근)</td>\n",
       "      <td>서울특별시 동대문구2</td>\n",
       "      <td>4</td>\n",
       "      <td>4</td>\n",
       "      <td>0</td>\n",
       "      <td>3</td>\n",
       "      <td>0</td>\n",
       "      <td>1</td>\n",
       "      <td>37.594689</td>\n",
       "      <td>127.064533</td>\n",
       "    </tr>\n",
       "    <tr>\n",
       "      <th>4</th>\n",
       "      <td>2013</td>\n",
       "      <td>1130510100</td>\n",
       "      <td>서울특별시 강북구 미아동</td>\n",
       "      <td>서울특별시 강북구 미아동(삼양시장 부근)</td>\n",
       "      <td>서울특별시 강북구2</td>\n",
       "      <td>3</td>\n",
       "      <td>4</td>\n",
       "      <td>0</td>\n",
       "      <td>0</td>\n",
       "      <td>4</td>\n",
       "      <td>0</td>\n",
       "      <td>37.623925</td>\n",
       "      <td>127.018607</td>\n",
       "    </tr>\n",
       "  </tbody>\n",
       "</table>\n",
       "</div>"
      ],
      "text/plain": [
       "     연도       법정동코드             법정동                           다발지명  \\\n",
       "0  2012  1154510300   서울특별시 금천구 시흥동      서울특별시 금천구 시흥동(은행나무오거리 부근)   \n",
       "1  2013  1121510100   서울특별시 광진구 중곡동         서울특별시 광진구 중곡동(신성시장 부근)   \n",
       "2  2013  1114016200    서울특별시 중구 신당동  서울특별시 중구 신당동(약수역_다산로_진출_2 부근)   \n",
       "3  2013  1123011000  서울특별시 동대문구 이문동    서울특별시 동대문구 이문동(외대앞역앞교차로 부근)   \n",
       "4  2013  1130510100   서울특별시 강북구 미아동         서울특별시 강북구 미아동(삼양시장 부근)   \n",
       "\n",
       "         관할경찰서 발생건수  사상자수  사망자수  중상자수  경상자수  부상신고자수         위도          경도  \n",
       "0   서울특별시 금천구2    4     6     0     1     5       0  37.451125  126.908656  \n",
       "1   서울특별시 광진구1    3     3     0     1     2       0  37.557952  127.088880  \n",
       "2    서울특별시 중구2    4     5     0     2     3       0  37.555718  127.011329  \n",
       "3  서울특별시 동대문구2    4     4     0     3     0       1  37.594689  127.064533  \n",
       "4   서울특별시 강북구2    3     4     0     0     4       0  37.623925  127.018607  "
      ]
     },
     "execution_count": 106,
     "metadata": {},
     "output_type": "execute_result"
    }
   ],
   "source": [
    "pp.head()"
   ]
  },
  {
   "cell_type": "code",
   "execution_count": 108,
   "metadata": {},
   "outputs": [],
   "source": [
    "pp.to_csv('Child_walk_accident.csv',encoding = 'cp949')"
   ]
  },
  {
   "cell_type": "code",
   "execution_count": null,
   "metadata": {},
   "outputs": [],
   "source": []
  }
 ],
 "metadata": {
  "kernelspec": {
   "display_name": "Python 3",
   "language": "python",
   "name": "python3"
  },
  "language_info": {
   "codemirror_mode": {
    "name": "ipython",
    "version": 3
   },
   "file_extension": ".py",
   "mimetype": "text/x-python",
   "name": "python",
   "nbconvert_exporter": "python",
   "pygments_lexer": "ipython3",
   "version": "3.6.5"
  }
 },
 "nbformat": 4,
 "nbformat_minor": 2
}
